{
 "cells": [
  {
   "cell_type": "markdown",
   "id": "9f0d4c1b",
   "metadata": {},
   "source": [
    "## NYPD Shooting Incident Data Report\n"
   ]
  },
  {
   "cell_type": "markdown",
   "id": "ac8f91dc",
   "metadata": {},
   "source": [
    "##  Report Outline:\n",
    "\n",
    "* Data source taken form : https://catalog.data.gov/dataset/nypd-shooting-incident-data-historic\n",
    "\n",
    "* Question of interest, what questions want to answer before this report?\n",
    "    1. I wonder what is the precentage of shooting cases that cause victims die(flag as murder).\n",
    "    2. Which sub area in New York city has most cases.\n",
    "    3. What about some background of thoes victims? Age ? Sex? Race?\n",
    "    4. Can I use a logistic regression to predict which age group/sex is the most vulnerable ? How's the quality of the model?\n",
    "    \n",
    "* Data loading\n",
    "\n",
    "* Data Visualization\n",
    "\n",
    "* Modeling"
   ]
  },
  {
   "cell_type": "code",
   "execution_count": 45,
   "id": "094dd804",
   "metadata": {},
   "outputs": [],
   "source": [
    "library(tidyverse)\n",
    "library(mapview)\n",
    "library(maptools)\n",
    "library(sf)\n",
    "library(lubridate)\n",
    "\n",
    "set.seed(2022)"
   ]
  },
  {
   "cell_type": "markdown",
   "id": "a071cc15",
   "metadata": {},
   "source": [
    "## Step 1 Load data"
   ]
  },
  {
   "cell_type": "code",
   "execution_count": 46,
   "id": "99c0a534",
   "metadata": {},
   "outputs": [
    {
     "data": {
      "text/html": [
       "<table class=\"dataframe\">\n",
       "<caption>A data.frame: 6 × 19</caption>\n",
       "<thead>\n",
       "\t<tr><th></th><th scope=col>INCIDENT_KEY</th><th scope=col>OCCUR_DATE</th><th scope=col>OCCUR_TIME</th><th scope=col>BORO</th><th scope=col>PRECINCT</th><th scope=col>JURISDICTION_CODE</th><th scope=col>LOCATION_DESC</th><th scope=col>STATISTICAL_MURDER_FLAG</th><th scope=col>PERP_AGE_GROUP</th><th scope=col>PERP_SEX</th><th scope=col>PERP_RACE</th><th scope=col>VIC_AGE_GROUP</th><th scope=col>VIC_SEX</th><th scope=col>VIC_RACE</th><th scope=col>X_COORD_CD</th><th scope=col>Y_COORD_CD</th><th scope=col>Latitude</th><th scope=col>Longitude</th><th scope=col>Lon_Lat</th></tr>\n",
       "\t<tr><th></th><th scope=col>&lt;int&gt;</th><th scope=col>&lt;fct&gt;</th><th scope=col>&lt;fct&gt;</th><th scope=col>&lt;fct&gt;</th><th scope=col>&lt;int&gt;</th><th scope=col>&lt;int&gt;</th><th scope=col>&lt;fct&gt;</th><th scope=col>&lt;fct&gt;</th><th scope=col>&lt;fct&gt;</th><th scope=col>&lt;fct&gt;</th><th scope=col>&lt;fct&gt;</th><th scope=col>&lt;fct&gt;</th><th scope=col>&lt;fct&gt;</th><th scope=col>&lt;fct&gt;</th><th scope=col>&lt;dbl&gt;</th><th scope=col>&lt;dbl&gt;</th><th scope=col>&lt;dbl&gt;</th><th scope=col>&lt;dbl&gt;</th><th scope=col>&lt;fct&gt;</th></tr>\n",
       "</thead>\n",
       "<tbody>\n",
       "\t<tr><th scope=row>1</th><td> 24050482</td><td>08/27/2006</td><td>05:35:00</td><td>BRONX   </td><td> 52</td><td>0</td><td></td><td>true </td><td></td><td></td><td></td><td>25-44</td><td>F</td><td>BLACK HISPANIC</td><td>1017542</td><td>255918.9</td><td>40.86906</td><td>-73.87963</td><td>POINT (-73.87963173099996 40.86905819000003) </td></tr>\n",
       "\t<tr><th scope=row>2</th><td> 77673979</td><td>03/11/2011</td><td>12:03:00</td><td>QUEENS  </td><td>106</td><td>0</td><td></td><td>false</td><td></td><td></td><td></td><td>65+  </td><td>M</td><td>WHITE         </td><td>1027543</td><td>186095.0</td><td>40.67737</td><td>-73.84392</td><td>POINT (-73.84392019199998 40.677366895000034)</td></tr>\n",
       "\t<tr><th scope=row>3</th><td>203350417</td><td>10/06/2019</td><td>01:09:00</td><td>BROOKLYN</td><td> 77</td><td>0</td><td></td><td>false</td><td></td><td></td><td></td><td>18-24</td><td>F</td><td>BLACK         </td><td> 995325</td><td>185155.0</td><td>40.67489</td><td>-73.96008</td><td>POINT (-73.96007501899999 40.674885741000026)</td></tr>\n",
       "\t<tr><th scope=row>4</th><td> 80584527</td><td>09/04/2011</td><td>03:35:00</td><td><span style=white-space:pre-wrap>BRONX   </span></td><td> 40</td><td>0</td><td></td><td>false</td><td></td><td></td><td></td><td><span style=white-space:pre-wrap>&lt;18  </span></td><td>M</td><td><span style=white-space:pre-wrap>BLACK         </span></td><td>1007453</td><td>233952.0</td><td>40.80880</td><td>-73.91618</td><td>POINT (-73.91618413199996 40.80879780500004) </td></tr>\n",
       "\t<tr><th scope=row>5</th><td> 90843766</td><td>05/27/2013</td><td>21:16:00</td><td>QUEENS  </td><td>100</td><td>0</td><td></td><td>false</td><td></td><td></td><td></td><td>18-24</td><td>M</td><td>BLACK         </td><td>1041267</td><td>157133.5</td><td>40.59780</td><td>-73.79469</td><td>POINT (-73.79468553799995 40.597796249000055)</td></tr>\n",
       "\t<tr><th scope=row>6</th><td> 92393427</td><td>09/01/2013</td><td>04:17:00</td><td>BROOKLYN</td><td> 67</td><td>0</td><td></td><td>false</td><td></td><td></td><td></td><td><span style=white-space:pre-wrap>&lt;18  </span></td><td>M</td><td><span style=white-space:pre-wrap>BLACK         </span></td><td>1001694</td><td>170112.9</td><td>40.63359</td><td>-73.93715</td><td>POINT (-73.93715330699996 40.63358818100005) </td></tr>\n",
       "</tbody>\n",
       "</table>\n"
      ],
      "text/latex": [
       "A data.frame: 6 × 19\n",
       "\\begin{tabular}{r|lllllllllllllllllll}\n",
       "  & INCIDENT\\_KEY & OCCUR\\_DATE & OCCUR\\_TIME & BORO & PRECINCT & JURISDICTION\\_CODE & LOCATION\\_DESC & STATISTICAL\\_MURDER\\_FLAG & PERP\\_AGE\\_GROUP & PERP\\_SEX & PERP\\_RACE & VIC\\_AGE\\_GROUP & VIC\\_SEX & VIC\\_RACE & X\\_COORD\\_CD & Y\\_COORD\\_CD & Latitude & Longitude & Lon\\_Lat\\\\\n",
       "  & <int> & <fct> & <fct> & <fct> & <int> & <int> & <fct> & <fct> & <fct> & <fct> & <fct> & <fct> & <fct> & <fct> & <dbl> & <dbl> & <dbl> & <dbl> & <fct>\\\\\n",
       "\\hline\n",
       "\t1 &  24050482 & 08/27/2006 & 05:35:00 & BRONX    &  52 & 0 &  & true  &  &  &  & 25-44 & F & BLACK HISPANIC & 1017542 & 255918.9 & 40.86906 & -73.87963 & POINT (-73.87963173099996 40.86905819000003) \\\\\n",
       "\t2 &  77673979 & 03/11/2011 & 12:03:00 & QUEENS   & 106 & 0 &  & false &  &  &  & 65+   & M & WHITE          & 1027543 & 186095.0 & 40.67737 & -73.84392 & POINT (-73.84392019199998 40.677366895000034)\\\\\n",
       "\t3 & 203350417 & 10/06/2019 & 01:09:00 & BROOKLYN &  77 & 0 &  & false &  &  &  & 18-24 & F & BLACK          &  995325 & 185155.0 & 40.67489 & -73.96008 & POINT (-73.96007501899999 40.674885741000026)\\\\\n",
       "\t4 &  80584527 & 09/04/2011 & 03:35:00 & BRONX    &  40 & 0 &  & false &  &  &  & <18   & M & BLACK          & 1007453 & 233952.0 & 40.80880 & -73.91618 & POINT (-73.91618413199996 40.80879780500004) \\\\\n",
       "\t5 &  90843766 & 05/27/2013 & 21:16:00 & QUEENS   & 100 & 0 &  & false &  &  &  & 18-24 & M & BLACK          & 1041267 & 157133.5 & 40.59780 & -73.79469 & POINT (-73.79468553799995 40.597796249000055)\\\\\n",
       "\t6 &  92393427 & 09/01/2013 & 04:17:00 & BROOKLYN &  67 & 0 &  & false &  &  &  & <18   & M & BLACK          & 1001694 & 170112.9 & 40.63359 & -73.93715 & POINT (-73.93715330699996 40.63358818100005) \\\\\n",
       "\\end{tabular}\n"
      ],
      "text/markdown": [
       "\n",
       "A data.frame: 6 × 19\n",
       "\n",
       "| <!--/--> | INCIDENT_KEY &lt;int&gt; | OCCUR_DATE &lt;fct&gt; | OCCUR_TIME &lt;fct&gt; | BORO &lt;fct&gt; | PRECINCT &lt;int&gt; | JURISDICTION_CODE &lt;int&gt; | LOCATION_DESC &lt;fct&gt; | STATISTICAL_MURDER_FLAG &lt;fct&gt; | PERP_AGE_GROUP &lt;fct&gt; | PERP_SEX &lt;fct&gt; | PERP_RACE &lt;fct&gt; | VIC_AGE_GROUP &lt;fct&gt; | VIC_SEX &lt;fct&gt; | VIC_RACE &lt;fct&gt; | X_COORD_CD &lt;dbl&gt; | Y_COORD_CD &lt;dbl&gt; | Latitude &lt;dbl&gt; | Longitude &lt;dbl&gt; | Lon_Lat &lt;fct&gt; |\n",
       "|---|---|---|---|---|---|---|---|---|---|---|---|---|---|---|---|---|---|---|---|\n",
       "| 1 |  24050482 | 08/27/2006 | 05:35:00 | BRONX    |  52 | 0 | <!----> | true  | <!----> | <!----> | <!----> | 25-44 | F | BLACK HISPANIC | 1017542 | 255918.9 | 40.86906 | -73.87963 | POINT (-73.87963173099996 40.86905819000003)  |\n",
       "| 2 |  77673979 | 03/11/2011 | 12:03:00 | QUEENS   | 106 | 0 | <!----> | false | <!----> | <!----> | <!----> | 65+   | M | WHITE          | 1027543 | 186095.0 | 40.67737 | -73.84392 | POINT (-73.84392019199998 40.677366895000034) |\n",
       "| 3 | 203350417 | 10/06/2019 | 01:09:00 | BROOKLYN |  77 | 0 | <!----> | false | <!----> | <!----> | <!----> | 18-24 | F | BLACK          |  995325 | 185155.0 | 40.67489 | -73.96008 | POINT (-73.96007501899999 40.674885741000026) |\n",
       "| 4 |  80584527 | 09/04/2011 | 03:35:00 | BRONX    |  40 | 0 | <!----> | false | <!----> | <!----> | <!----> | &lt;18   | M | BLACK          | 1007453 | 233952.0 | 40.80880 | -73.91618 | POINT (-73.91618413199996 40.80879780500004)  |\n",
       "| 5 |  90843766 | 05/27/2013 | 21:16:00 | QUEENS   | 100 | 0 | <!----> | false | <!----> | <!----> | <!----> | 18-24 | M | BLACK          | 1041267 | 157133.5 | 40.59780 | -73.79469 | POINT (-73.79468553799995 40.597796249000055) |\n",
       "| 6 |  92393427 | 09/01/2013 | 04:17:00 | BROOKLYN |  67 | 0 | <!----> | false | <!----> | <!----> | <!----> | &lt;18   | M | BLACK          | 1001694 | 170112.9 | 40.63359 | -73.93715 | POINT (-73.93715330699996 40.63358818100005)  |\n",
       "\n"
      ],
      "text/plain": [
       "  INCIDENT_KEY OCCUR_DATE OCCUR_TIME BORO     PRECINCT JURISDICTION_CODE\n",
       "1  24050482    08/27/2006 05:35:00   BRONX     52      0                \n",
       "2  77673979    03/11/2011 12:03:00   QUEENS   106      0                \n",
       "3 203350417    10/06/2019 01:09:00   BROOKLYN  77      0                \n",
       "4  80584527    09/04/2011 03:35:00   BRONX     40      0                \n",
       "5  90843766    05/27/2013 21:16:00   QUEENS   100      0                \n",
       "6  92393427    09/01/2013 04:17:00   BROOKLYN  67      0                \n",
       "  LOCATION_DESC STATISTICAL_MURDER_FLAG PERP_AGE_GROUP PERP_SEX PERP_RACE\n",
       "1               true                                                     \n",
       "2               false                                                    \n",
       "3               false                                                    \n",
       "4               false                                                    \n",
       "5               false                                                    \n",
       "6               false                                                    \n",
       "  VIC_AGE_GROUP VIC_SEX VIC_RACE       X_COORD_CD Y_COORD_CD Latitude Longitude\n",
       "1 25-44         F       BLACK HISPANIC 1017542    255918.9   40.86906 -73.87963\n",
       "2 65+           M       WHITE          1027543    186095.0   40.67737 -73.84392\n",
       "3 18-24         F       BLACK           995325    185155.0   40.67489 -73.96008\n",
       "4 <18           M       BLACK          1007453    233952.0   40.80880 -73.91618\n",
       "5 18-24         M       BLACK          1041267    157133.5   40.59780 -73.79469\n",
       "6 <18           M       BLACK          1001694    170112.9   40.63359 -73.93715\n",
       "  Lon_Lat                                      \n",
       "1 POINT (-73.87963173099996 40.86905819000003) \n",
       "2 POINT (-73.84392019199998 40.677366895000034)\n",
       "3 POINT (-73.96007501899999 40.674885741000026)\n",
       "4 POINT (-73.91618413199996 40.80879780500004) \n",
       "5 POINT (-73.79468553799995 40.597796249000055)\n",
       "6 POINT (-73.93715330699996 40.63358818100005) "
      ]
     },
     "metadata": {},
     "output_type": "display_data"
    }
   ],
   "source": [
    "#load data\n",
    "df = read.csv('NYPD_Shooting_Incident_Data__Historic_.csv', stringsAsFactors = TRUE)\n",
    "head(df)"
   ]
  },
  {
   "cell_type": "code",
   "execution_count": 5,
   "id": "fd03459c",
   "metadata": {},
   "outputs": [
    {
     "data": {
      "text/html": [
       "<style>\n",
       ".list-inline {list-style: none; margin:0; padding: 0}\n",
       ".list-inline>li {display: inline-block}\n",
       ".list-inline>li:not(:last-child)::after {content: \"\\00b7\"; padding: 0 .5ex}\n",
       "</style>\n",
       "<ol class=list-inline><li>'INCIDENT_KEY'</li><li>'OCCUR_DATE'</li><li>'OCCUR_TIME'</li><li>'BORO'</li><li>'PRECINCT'</li><li>'JURISDICTION_CODE'</li><li>'LOCATION_DESC'</li><li>'STATISTICAL_MURDER_FLAG'</li><li>'PERP_AGE_GROUP'</li><li>'PERP_SEX'</li><li>'PERP_RACE'</li><li>'VIC_AGE_GROUP'</li><li>'VIC_SEX'</li><li>'VIC_RACE'</li><li>'X_COORD_CD'</li><li>'Y_COORD_CD'</li><li>'Latitude'</li><li>'Longitude'</li><li>'Lon_Lat'</li></ol>\n"
      ],
      "text/latex": [
       "\\begin{enumerate*}\n",
       "\\item 'INCIDENT\\_KEY'\n",
       "\\item 'OCCUR\\_DATE'\n",
       "\\item 'OCCUR\\_TIME'\n",
       "\\item 'BORO'\n",
       "\\item 'PRECINCT'\n",
       "\\item 'JURISDICTION\\_CODE'\n",
       "\\item 'LOCATION\\_DESC'\n",
       "\\item 'STATISTICAL\\_MURDER\\_FLAG'\n",
       "\\item 'PERP\\_AGE\\_GROUP'\n",
       "\\item 'PERP\\_SEX'\n",
       "\\item 'PERP\\_RACE'\n",
       "\\item 'VIC\\_AGE\\_GROUP'\n",
       "\\item 'VIC\\_SEX'\n",
       "\\item 'VIC\\_RACE'\n",
       "\\item 'X\\_COORD\\_CD'\n",
       "\\item 'Y\\_COORD\\_CD'\n",
       "\\item 'Latitude'\n",
       "\\item 'Longitude'\n",
       "\\item 'Lon\\_Lat'\n",
       "\\end{enumerate*}\n"
      ],
      "text/markdown": [
       "1. 'INCIDENT_KEY'\n",
       "2. 'OCCUR_DATE'\n",
       "3. 'OCCUR_TIME'\n",
       "4. 'BORO'\n",
       "5. 'PRECINCT'\n",
       "6. 'JURISDICTION_CODE'\n",
       "7. 'LOCATION_DESC'\n",
       "8. 'STATISTICAL_MURDER_FLAG'\n",
       "9. 'PERP_AGE_GROUP'\n",
       "10. 'PERP_SEX'\n",
       "11. 'PERP_RACE'\n",
       "12. 'VIC_AGE_GROUP'\n",
       "13. 'VIC_SEX'\n",
       "14. 'VIC_RACE'\n",
       "15. 'X_COORD_CD'\n",
       "16. 'Y_COORD_CD'\n",
       "17. 'Latitude'\n",
       "18. 'Longitude'\n",
       "19. 'Lon_Lat'\n",
       "\n",
       "\n"
      ],
      "text/plain": [
       " [1] \"INCIDENT_KEY\"            \"OCCUR_DATE\"             \n",
       " [3] \"OCCUR_TIME\"              \"BORO\"                   \n",
       " [5] \"PRECINCT\"                \"JURISDICTION_CODE\"      \n",
       " [7] \"LOCATION_DESC\"           \"STATISTICAL_MURDER_FLAG\"\n",
       " [9] \"PERP_AGE_GROUP\"          \"PERP_SEX\"               \n",
       "[11] \"PERP_RACE\"               \"VIC_AGE_GROUP\"          \n",
       "[13] \"VIC_SEX\"                 \"VIC_RACE\"               \n",
       "[15] \"X_COORD_CD\"              \"Y_COORD_CD\"             \n",
       "[17] \"Latitude\"                \"Longitude\"              \n",
       "[19] \"Lon_Lat\"                "
      ]
     },
     "metadata": {},
     "output_type": "display_data"
    }
   ],
   "source": [
    "colnames(df)"
   ]
  },
  {
   "cell_type": "markdown",
   "id": "afdfc2d2",
   "metadata": {},
   "source": [
    "Drop some unnecessery columns."
   ]
  },
  {
   "cell_type": "code",
   "execution_count": 48,
   "id": "aff3c330",
   "metadata": {},
   "outputs": [
    {
     "data": {
      "text/html": [
       "<table class=\"dataframe\">\n",
       "<caption>A data.frame: 6 × 8</caption>\n",
       "<thead>\n",
       "\t<tr><th></th><th scope=col>OCCUR_DATE</th><th scope=col>BORO</th><th scope=col>STATISTICAL_MURDER_FLAG</th><th scope=col>VIC_AGE_GROUP</th><th scope=col>VIC_SEX</th><th scope=col>VIC_RACE</th><th scope=col>Latitude</th><th scope=col>Longitude</th></tr>\n",
       "\t<tr><th></th><th scope=col>&lt;fct&gt;</th><th scope=col>&lt;fct&gt;</th><th scope=col>&lt;fct&gt;</th><th scope=col>&lt;fct&gt;</th><th scope=col>&lt;fct&gt;</th><th scope=col>&lt;fct&gt;</th><th scope=col>&lt;dbl&gt;</th><th scope=col>&lt;dbl&gt;</th></tr>\n",
       "</thead>\n",
       "<tbody>\n",
       "\t<tr><th scope=row>1</th><td>08/27/2006</td><td>BRONX   </td><td>true </td><td>25-44</td><td>F</td><td>BLACK HISPANIC</td><td>40.86906</td><td>-73.87963</td></tr>\n",
       "\t<tr><th scope=row>2</th><td>03/11/2011</td><td>QUEENS  </td><td>false</td><td>65+  </td><td>M</td><td>WHITE         </td><td>40.67737</td><td>-73.84392</td></tr>\n",
       "\t<tr><th scope=row>3</th><td>10/06/2019</td><td>BROOKLYN</td><td>false</td><td>18-24</td><td>F</td><td>BLACK         </td><td>40.67489</td><td>-73.96008</td></tr>\n",
       "\t<tr><th scope=row>4</th><td>09/04/2011</td><td><span style=white-space:pre-wrap>BRONX   </span></td><td>false</td><td><span style=white-space:pre-wrap>&lt;18  </span></td><td>M</td><td><span style=white-space:pre-wrap>BLACK         </span></td><td>40.80880</td><td>-73.91618</td></tr>\n",
       "\t<tr><th scope=row>5</th><td>05/27/2013</td><td>QUEENS  </td><td>false</td><td>18-24</td><td>M</td><td>BLACK         </td><td>40.59780</td><td>-73.79469</td></tr>\n",
       "\t<tr><th scope=row>6</th><td>09/01/2013</td><td>BROOKLYN</td><td>false</td><td><span style=white-space:pre-wrap>&lt;18  </span></td><td>M</td><td><span style=white-space:pre-wrap>BLACK         </span></td><td>40.63359</td><td>-73.93715</td></tr>\n",
       "</tbody>\n",
       "</table>\n"
      ],
      "text/latex": [
       "A data.frame: 6 × 8\n",
       "\\begin{tabular}{r|llllllll}\n",
       "  & OCCUR\\_DATE & BORO & STATISTICAL\\_MURDER\\_FLAG & VIC\\_AGE\\_GROUP & VIC\\_SEX & VIC\\_RACE & Latitude & Longitude\\\\\n",
       "  & <fct> & <fct> & <fct> & <fct> & <fct> & <fct> & <dbl> & <dbl>\\\\\n",
       "\\hline\n",
       "\t1 & 08/27/2006 & BRONX    & true  & 25-44 & F & BLACK HISPANIC & 40.86906 & -73.87963\\\\\n",
       "\t2 & 03/11/2011 & QUEENS   & false & 65+   & M & WHITE          & 40.67737 & -73.84392\\\\\n",
       "\t3 & 10/06/2019 & BROOKLYN & false & 18-24 & F & BLACK          & 40.67489 & -73.96008\\\\\n",
       "\t4 & 09/04/2011 & BRONX    & false & <18   & M & BLACK          & 40.80880 & -73.91618\\\\\n",
       "\t5 & 05/27/2013 & QUEENS   & false & 18-24 & M & BLACK          & 40.59780 & -73.79469\\\\\n",
       "\t6 & 09/01/2013 & BROOKLYN & false & <18   & M & BLACK          & 40.63359 & -73.93715\\\\\n",
       "\\end{tabular}\n"
      ],
      "text/markdown": [
       "\n",
       "A data.frame: 6 × 8\n",
       "\n",
       "| <!--/--> | OCCUR_DATE &lt;fct&gt; | BORO &lt;fct&gt; | STATISTICAL_MURDER_FLAG &lt;fct&gt; | VIC_AGE_GROUP &lt;fct&gt; | VIC_SEX &lt;fct&gt; | VIC_RACE &lt;fct&gt; | Latitude &lt;dbl&gt; | Longitude &lt;dbl&gt; |\n",
       "|---|---|---|---|---|---|---|---|---|\n",
       "| 1 | 08/27/2006 | BRONX    | true  | 25-44 | F | BLACK HISPANIC | 40.86906 | -73.87963 |\n",
       "| 2 | 03/11/2011 | QUEENS   | false | 65+   | M | WHITE          | 40.67737 | -73.84392 |\n",
       "| 3 | 10/06/2019 | BROOKLYN | false | 18-24 | F | BLACK          | 40.67489 | -73.96008 |\n",
       "| 4 | 09/04/2011 | BRONX    | false | &lt;18   | M | BLACK          | 40.80880 | -73.91618 |\n",
       "| 5 | 05/27/2013 | QUEENS   | false | 18-24 | M | BLACK          | 40.59780 | -73.79469 |\n",
       "| 6 | 09/01/2013 | BROOKLYN | false | &lt;18   | M | BLACK          | 40.63359 | -73.93715 |\n",
       "\n"
      ],
      "text/plain": [
       "  OCCUR_DATE BORO     STATISTICAL_MURDER_FLAG VIC_AGE_GROUP VIC_SEX\n",
       "1 08/27/2006 BRONX    true                    25-44         F      \n",
       "2 03/11/2011 QUEENS   false                   65+           M      \n",
       "3 10/06/2019 BROOKLYN false                   18-24         F      \n",
       "4 09/04/2011 BRONX    false                   <18           M      \n",
       "5 05/27/2013 QUEENS   false                   18-24         M      \n",
       "6 09/01/2013 BROOKLYN false                   <18           M      \n",
       "  VIC_RACE       Latitude Longitude\n",
       "1 BLACK HISPANIC 40.86906 -73.87963\n",
       "2 WHITE          40.67737 -73.84392\n",
       "3 BLACK          40.67489 -73.96008\n",
       "4 BLACK          40.80880 -73.91618\n",
       "5 BLACK          40.59780 -73.79469\n",
       "6 BLACK          40.63359 -73.93715"
      ]
     },
     "metadata": {},
     "output_type": "display_data"
    }
   ],
   "source": [
    "df_new = df[c('OCCUR_DATE', 'BORO', 'STATISTICAL_MURDER_FLAG','VIC_AGE_GROUP', 'VIC_SEX','VIC_RACE', 'Latitude','Longitude')]\n",
    "head(df_new)"
   ]
  },
  {
   "cell_type": "markdown",
   "id": "98a1f6c4",
   "metadata": {},
   "source": [
    "## 2 Visualization and analysis"
   ]
  },
  {
   "cell_type": "code",
   "execution_count": 53,
   "id": "261f2cdd",
   "metadata": {},
   "outputs": [
    {
     "data": {
      "image/png": "[encoded data removed]",
      "text/plain": [
       "Plot with title \"case type\""
      ]
     },
     "metadata": {
      "image/png": {
       "height": 420,
       "width": 420
      }
     },
     "output_type": "display_data"
    }
   ],
   "source": [
    "temp = df_new %>%\n",
    "group_by(STATISTICAL_MURDER_FLAG) %>%\n",
    "count()\n",
    "\n",
    "piepercent<- round(100*temp$n/sum(temp$n), 1)\n",
    "#pie(temp$n,temp$STATISTICAL_MURDER_FLAG)\n",
    "\n",
    "pie(temp$n,label=piepercent, main = \"case type\",\n",
    "    col = rainbow(length(temp$n)))\n",
    "    legend(\"topright\", c(\"TRUE\", \"FALSE\"), cex = 0.8,\n",
    "   fill = rainbow(length(temp$n)))"
   ]
  },
  {
   "cell_type": "markdown",
   "id": "34bc2676",
   "metadata": {},
   "source": [
    "From the plot above we can see Non murder contribute over 80% of total cases."
   ]
  },
  {
   "cell_type": "code",
   "execution_count": 55,
   "id": "6fdcaf5d",
   "metadata": {},
   "outputs": [
    {
     "data": {
      "image/png": "[encoded data removed]",
      "text/plain": [
       "plot without title"
      ]
     },
     "metadata": {
      "image/png": {
       "height": 420,
       "width": 420
      }
     },
     "output_type": "display_data"
    }
   ],
   "source": [
    "ggplot(df_new, aes(x=VIC_AGE_GROUP, fill=VIC_AGE_GROUP)) +  \n",
    "    geom_bar(stat=\"count\", alpha=5) + \n",
    "    labs(title='victim age groups')"
   ]
  },
  {
   "cell_type": "markdown",
   "id": "d1de8851",
   "metadata": {},
   "source": [
    "From the plot above we can see most common age group fall into 25-44 with total cases close to 11000, and the second most is age between 19-24."
   ]
  },
  {
   "cell_type": "markdown",
   "id": "2592c4b4",
   "metadata": {},
   "source": [
    "Brooklyn and Bronx are 2 boroughs of NYC have most shooting cases."
   ]
  },
  {
   "cell_type": "code",
   "execution_count": 58,
   "id": "840183b9",
   "metadata": {},
   "outputs": [
    {
     "data": {
      "image/png": "[encoded data removed]",
      "text/plain": [
       "plot without title"
      ]
     },
     "metadata": {
      "image/png": {
       "height": 360,
       "width": 900
      }
     },
     "output_type": "display_data"
    }
   ],
   "source": [
    "options(repr.plot.width=15, repr.plot.height=6) \n",
    "ggplot(df_new, aes(y=VIC_RACE, fill=VIC_RACE)) +  \n",
    "    geom_bar(stat=\"count\", alpha=5) + \n",
    "    theme(axis.text.x = element_text(face=\"bold\", color=\"#993333\", \n",
    "                           size=11),\n",
    "          axis.text.y = element_text(face=\"bold\", color=\"#993333\", \n",
    "                           size=11))\n",
    "\n",
    "options(repr.plot.width=7, repr.plot.height=7) "
   ]
  },
  {
   "cell_type": "markdown",
   "id": "525219e2",
   "metadata": {},
   "source": [
    "From plot above ： Black and White hispanic are 2 most count cases."
   ]
  },
  {
   "cell_type": "code",
   "execution_count": 59,
   "id": "7b8de14a",
   "metadata": {},
   "outputs": [
    {
     "data": {
      "image/png": "[encoded data removed]",
      "text/plain": [
       "plot without title"
      ]
     },
     "metadata": {
      "image/png": {
       "height": 420,
       "width": 420
      }
     },
     "output_type": "display_data"
    }
   ],
   "source": [
    "ggplot(df_new, aes(x=BORO, fill=BORO)) +  \n",
    "    geom_bar(stat=\"count\", alpha=5) + \n",
    "    labs(title='BORO')"
   ]
  },
  {
   "cell_type": "markdown",
   "id": "5d7b147d",
   "metadata": {},
   "source": [
    "To answer question 2 about which boro in NYC has most cases, the above plot is generated, Brooklyn and Bronx are most and second most cases boro in the city."
   ]
  },
  {
   "cell_type": "markdown",
   "id": "0161332d",
   "metadata": {},
   "source": [
    "## 3 Modeling the data"
   ]
  },
  {
   "cell_type": "code",
   "execution_count": 77,
   "id": "b1b96f84",
   "metadata": {
    "scrolled": false
   },
   "outputs": [
    {
     "data": {
      "text/plain": [
       "\n",
       "Call:\n",
       "glm(formula = VIC_SEX ~ BORO + VIC_AGE_GROUP, family = binomial, \n",
       "    data = trian_df)\n",
       "\n",
       "Deviance Residuals: \n",
       "    Min       1Q   Median       3Q      Max  \n",
       "-2.3180   0.3868   0.4088   0.4134   0.9414  \n",
       "\n",
       "Coefficients:\n",
       "                     Estimate Std. Error z value Pr(>|z|)    \n",
       "(Intercept)           1.87007    0.06796  27.518  < 2e-16 ***\n",
       "BOROBROOKLYN         -0.11484    0.05693  -2.017  0.04366 *  \n",
       "BOROMANHATTAN        -0.12122    0.07808  -1.553  0.12051    \n",
       "BOROQUEENS           -0.19917    0.07268  -2.740  0.00614 ** \n",
       "BOROSTATEN ISLAND    -0.24891    0.13116  -1.898  0.05772 .  \n",
       "VIC_AGE_GROUP18-24    0.74584    0.07023  10.620  < 2e-16 ***\n",
       "VIC_AGE_GROUP25-44    0.68497    0.06823  10.039  < 2e-16 ***\n",
       "VIC_AGE_GROUP45-64   -0.36167    0.08663  -4.175 2.98e-05 ***\n",
       "VIC_AGE_GROUP65+     -1.03705    0.18345  -5.653 1.58e-08 ***\n",
       "VIC_AGE_GROUPUNKNOWN  0.59481    0.47147   1.262  0.20709    \n",
       "---\n",
       "Signif. codes:  0 '***' 0.001 '**' 0.01 '*' 0.05 '.' 0.1 ' ' 1\n",
       "\n",
       "(Dispersion parameter for binomial family taken to be 1)\n",
       "\n",
       "    Null deviance: 14333  on 22999  degrees of freedom\n",
       "Residual deviance: 13982  on 22990  degrees of freedom\n",
       "AIC: 14002\n",
       "\n",
       "Number of Fisher Scoring iterations: 5\n"
      ]
     },
     "metadata": {},
     "output_type": "display_data"
    }
   ],
   "source": [
    "#logistic regression on age group\n",
    "\n",
    "trian_df = df_new[1 :23000, ]\n",
    "test_df = df_new[23001: 23585, ]\n",
    "\n",
    "mod = glm(VIC_SEX ~ BORO+VIC_AGE_GROUP, family=binomial, data=trian_df) \n",
    "summary(mod)\n",
    "\n",
    "# options(repr.plot.width=10, repr.plot.height=10)\n",
    "# par(mfrow = c(2,2))\n",
    "# plot(mod)"
   ]
  },
  {
   "cell_type": "code",
   "execution_count": 110,
   "id": "5e23c33e",
   "metadata": {},
   "outputs": [
    {
     "name": "stdout",
     "output_type": "stream",
     "text": [
      "Mean accuracy on test data: 0.9264957"
     ]
    }
   ],
   "source": [
    "# attach(test_df)\n",
    "# table(predicted.classes, VIC_SEX)\n",
    "probabilities <- mod %>% predict(test_df, type = \"response\")\n",
    "predicted.classes <- ifelse(probabilities > 0.5, \"M\", \"F\")\n",
    "\n",
    "test_class = test_df$VIC_SEX\n",
    "\n",
    "cat('Mean accuracy on test data:', mean(predicted.classes == test_class))"
   ]
  },
  {
   "cell_type": "markdown",
   "id": "e05a0bc8",
   "metadata": {},
   "source": [
    "##### Analysis : \n",
    "\n",
    "And in above we fit a logistic regression model, use BORO+VIC_AGE_GROUP as predictors, to predict VIC_SEX, weather a victim is male or female. \n",
    "\n",
    "In the output model, most significant predictors are VIC_AGE_GROUP18-24, VIC_AGE_GROUP25-44,VIC_AGE_GROUP45-64 and VIC_AGE_GROUP65.\n",
    "\n",
    "We use firt 20000 rows as training and the least as testing data, predicted.classes on test data has mean accuarcy of 0.93.\n",
    "\n"
   ]
  },
  {
   "cell_type": "markdown",
   "id": "a1be351c",
   "metadata": {},
   "source": [
    "## 4 Identifying Bias  "
   ]
  },
  {
   "cell_type": "markdown",
   "id": "80cee789",
   "metadata": {},
   "source": [
    "Possible bias: \n",
    "\n",
    "We can see that Brooklyn is the boro that has  the most cases, further assumption and data need to collected before make any conclusion. So other factors I can think of may correlate to high number of cases, for example, is the police responding time in Brooklyn show any significant difference across the city?  What about number of guns per capita, and more.  If we make early conclusion that  the reason that Brooklyn has most cases is because those factor mention only in this data such as age/sex/race that would possibly have  bias.\n"
   ]
  },
  {
   "cell_type": "markdown",
   "id": "f51239a6",
   "metadata": {},
   "source": [
    "## 5 Conclusion\n",
    "\n",
    "Now we can answer those question of interest at the beginning:\n",
    "\n",
    "1. About 80% are non murder, and the rest are murder.\n",
    "2. BROOKLYN are the boro has the most cases.\n",
    "3. Background of cases are clear in the plots."
   ]
  }
 ],
 "metadata": {
  "kernelspec": {
   "display_name": "R",
   "language": "R",
   "name": "ir"
  },
  "language_info": {
   "codemirror_mode": "r",
   "file_extension": ".r",
   "mimetype": "text/x-r-source",
   "name": "R",
   "pygments_lexer": "r",
   "version": "4.1.2"
  }
 },
 "nbformat": 4,
 "nbformat_minor": 5
}
